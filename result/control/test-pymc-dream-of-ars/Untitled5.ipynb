{
 "cells": [
  {
   "cell_type": "code",
   "execution_count": 2,
   "metadata": {
    "id": "D_UvDPnpmMNW"
   },
   "outputs": [],
   "source": [
    "import numpy as np\n",
    "import pandas as pd\n",
    "import matplotlib.pyplot as plt\n",
    "import seaborn as sns\n",
    "from IPython.display import display\n",
    "import pymc\n",
    "import scipy.stats as stats\n",
    "import pymc as pm\n",
    "import arviz as az\n",
    "\n",
    "from sklearn.preprocessing import StandardScaler\n",
    "\n",
    "sns.set_style(\"whitegrid\")"
   ]
  },
  {
   "cell_type": "code",
   "execution_count": 3,
   "metadata": {
    "id": "d8hkxNPMmNxw"
   },
   "outputs": [],
   "source": [
    "df1 = pd.read_csv(r\"data_01.csv\")\n",
    "df2 = pd.read_csv(r\"data_01.csv\")\n",
    "df3 = pd.read_csv(r\"data_01.csv\")\n",
    "df4 = pd.read_csv(r\"data_01.csv\")\n",
    "df5 = pd.read_csv(r\"data_01.csv\")\n",
    "df6 = pd.read_csv(r\"data_01.csv\")"
   ]
  },
  {
   "cell_type": "code",
   "execution_count": 4,
   "metadata": {
    "id": "4IFNpSTs_A8p"
   },
   "outputs": [],
   "source": [
    "dfs = [df1,df2,df3,df4,df5,df6]"
   ]
  },
  {
   "cell_type": "code",
   "execution_count": 5,
   "metadata": {
    "id": "B8u96rZQCqFE"
   },
   "outputs": [
    {
     "ename": "NameError",
     "evalue": "name 'all_data' is not defined",
     "output_type": "error",
     "traceback": [
      "\u001b[0;31m---------------------------------------------------------------------------\u001b[0m",
      "\u001b[0;31mNameError\u001b[0m                                 Traceback (most recent call last)",
      "Cell \u001b[0;32mIn[5], line 1\u001b[0m\n\u001b[0;32m----> 1\u001b[0m all_data[\u001b[38;5;124m'\u001b[39m\u001b[38;5;124mx_s\u001b[39m\u001b[38;5;124m'\u001b[39m] \u001b[38;5;241m=\u001b[39m all_data\u001b[38;5;241m.\u001b[39mx \u001b[38;5;241m-\u001b[39m all_data\u001b[38;5;241m.\u001b[39mx\u001b[38;5;241m.\u001b[39mmean()\n",
      "\u001b[0;31mNameError\u001b[0m: name 'all_data' is not defined"
     ]
    }
   ],
   "source": [
    "all_data['x_s'] = all_data.x - all_data.x.mean()"
   ]
  },
  {
   "cell_type": "code",
   "execution_count": null,
   "metadata": {
    "colab": {
     "base_uri": "https://localhost:8080/",
     "height": 607
    },
    "id": "K_yT-4Zc_rrP",
    "outputId": "8a13c137-599c-4ec6-cf4c-5a6400cb7f87"
   },
   "outputs": [],
   "source": [
    "\n",
    "all_data = pd.concat(datasets, keys=range(len(dfs)))\n",
    "\n",
    "\n",
    "all_data['dataset_idx'] = np.repeat(range(len(dfs)), [len(df) for df in dfs])\n",
    "\n",
    "M = len(dfs)\n",
    "N = len(all_data)\n",
    "\n",
    "with pm.Model() as unpooled_model:\n",
    "    α_tmp = pm.Normal('α_tmp', mu=0, sigma=10, shape=M)\n",
    "    β = pm.Normal('β', mu=0, sigma=10, shape=M)\n",
    "    ε = pm.HalfCauchy('ε', 5)\n",
    "    ν = pm.Exponential('ν', 1/30)\n",
    "\n",
    "    y_pred = pm.StudentT('y_pred', mu=α_tmp[all_data['dataset_idx']] + β[all_data['dataset_idx']] * all_data['x'].values,\n",
    "                         sigma=ε, nu=ν, observed=all_data['y'].values)\n",
    "\n",
    "    α = pm.Deterministic('α', α_tmp - β * all_data.groupby('dataset_idx').mean()['x'].values)\n",
    "\n",
    "    trace_up = pm.sample(2000, tune=1000, target_accept=0.8)\n",
    "\n",
    "az.plot_forest(trace_up, var_names=['α', 'β'], combined=True);"
   ]
  },
  {
   "cell_type": "code",
   "execution_count": null,
   "metadata": {
    "colab": {
     "base_uri": "https://localhost:8080/",
     "height": 607
    },
    "id": "NTh35Pni_smU",
    "outputId": "ea809d08-48d4-445d-c20a-6475b42a4cad"
   },
   "outputs": [],
   "source": [
    "with pm.Model() as hierarchical_model:\n",
    "    α_μ_tmp = pm.Normal('α_μ_tmp', mu=0, sigma=5)\n",
    "    α_σ_tmp = pm.HalfNormal('α_σ_tmp', sigma=3)\n",
    "    β_μ = pm.Normal('β_μ', mu=0, sigma=2)\n",
    "    β_σ = pm.HalfNormal('β_σ', sigma=2)\n",
    "\n",
    "    α_tmp = pm.Normal('α_tmp', mu=α_μ_tmp, sigma=α_σ_tmp, shape=len(dfs))\n",
    "    β = pm.Normal('β', mu=β_μ, sigma=β_σ, shape=len(dfs))\n",
    "    ε = pm.HalfCauchy('ε', 2)\n",
    "    ν = pm.Normal('ν', 1/12)\n",
    "\n",
    "    y_pred = pm.StudentT('y_pred', mu=α_tmp[all_data['dataset_idx']] + β[all_data['dataset_idx']] * all_data['x'].values,\n",
    "                         sigma=ε, nu=ν, observed=all_data['y'].values)\n",
    "\n",
    "    α = pm.Deterministic('α', α_tmp - β * all_data.groupby('dataset_idx').mean()['x'].values)\n",
    "    α_μ = pm.Deterministic('α_μ', α_μ_tmp - β_μ * all_data.groupby('dataset_idx').mean()['x'].values)\n",
    "    α_σ = pm.Deterministic('α_sd', α_σ_tmp - β_μ * all_data.groupby('dataset_idx').mean()['x'].values)\n",
    "\n",
    "    trace_hm = pm.sample(1000, target_accept=0.95)\n",
    "\n",
    "# Отобразите результаты\n",
    "az.plot_forest(trace_hm, var_names=['α', 'β'], combined=True);"
   ]
  },
  {
   "cell_type": "code",
   "execution_count": null,
   "metadata": {
    "colab": {
     "base_uri": "https://localhost:8080/",
     "height": 1000
    },
    "id": "D4-AOUtT_skd",
    "outputId": "b2a7187f-8c09-4993-8988-9cab70d24e6c"
   },
   "outputs": [],
   "source": [
    "_, ax = plt.subplots(2, 4, figsize=(15, 10), sharex=True, sharey=True, constrained_layout=True)\n",
    "\n",
    "trace_hm1 = trace_hm.posterior.stack(samples={\"chain\", \"draw\"})\n",
    "\n",
    "ax = np.ravel(ax)\n",
    "j, k = 0, 6\n",
    "x_range = np.linspace(all_data['x'].min() - 1, all_data['x'].max() + 1, 10)\n",
    "\n",
    "for i in range(6):\n",
    "    ax[i].scatter(all_data[all_data['dataset_idx'] == i]['x'], all_data[all_data['dataset_idx'] == i]['y'])\n",
    "    ax[i].set_xlabel(f'x_{i}')\n",
    "    ax[i].set_ylabel(f'y_{i}', labelpad=17, rotation=0)\n",
    "\n",
    "    # Получите средние значения параметров из трассировки\n",
    "    alpha_hm1 = trace_hm1['α'].sel({'α_dim_0': i}).mean().item()\n",
    "    beta_hm1 = trace_hm1['β'].sel({'β_dim_0': i}).mean().item()\n",
    "    alpha_hm1 = alpha_hm1+9\n",
    "    ax[i].plot(x_range, alpha_hm1 + beta_hm1 * x_range, c='r', label=f'y = {alpha_hm1:.2f} + {beta_hm1:.2f} * x' + ' - иерахич. модель')\n",
    "\n",
    "    ax[i].legend()\n",
    "    plt.xlim(all_data['x'].min() - 1, all_data['x'].max() + 1)\n",
    "    plt.ylim(all_data['y'].min() - 1, all_data['y'].max() + 1)"
   ]
  },
  {
   "cell_type": "code",
   "execution_count": null,
   "metadata": {
    "id": "cryPZqP-_siI"
   },
   "outputs": [],
   "source": [
    "3"
   ]
  },
  {
   "cell_type": "code",
   "execution_count": null,
   "metadata": {
    "id": "8c7IDCf6_sft"
   },
   "outputs": [],
   "source": []
  }
 ],
 "metadata": {
  "colab": {
   "provenance": []
  },
  "kernelspec": {
   "display_name": "Python 3 (ipykernel)",
   "language": "python",
   "name": "python3"
  },
  "language_info": {
   "codemirror_mode": {
    "name": "ipython",
    "version": 3
   },
   "file_extension": ".py",
   "mimetype": "text/x-python",
   "name": "python",
   "nbconvert_exporter": "python",
   "pygments_lexer": "ipython3",
   "version": "3.11.5"
  }
 },
 "nbformat": 4,
 "nbformat_minor": 1
}
