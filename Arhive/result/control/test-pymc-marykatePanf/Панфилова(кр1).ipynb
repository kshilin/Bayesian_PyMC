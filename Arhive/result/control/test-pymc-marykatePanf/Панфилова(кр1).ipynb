{
 "cells": [
  {
   "cell_type": "code",
   "execution_count": 1,
   "metadata": {
    "id": "_AuGR55ak4In"
   },
   "outputs": [],
   "source": [
    "import numpy as np\n",
    "import pandas as pd\n",
    "import matplotlib.pyplot as plt\n",
    "import seaborn as sns\n",
    "from IPython.display import display\n",
    "\n",
    "import scipy.stats as stats\n",
    "import pymc as pm\n",
    "import arviz as az\n",
    "\n",
    "sns.set_style(\"whitegrid\")"
   ]
  },
  {
   "cell_type": "code",
   "execution_count": 2,
   "metadata": {
    "id": "GZMm8XUkubSO"
   },
   "outputs": [],
   "source": [
    "df1 = pd.read_csv('data_01.csv')\n",
    "df2 = pd.read_csv('data_02.csv')\n",
    "df3 = pd.read_csv('data_03.csv')\n",
    "df4 = pd.read_csv('data_04.csv')\n",
    "df5 = pd.read_csv('data_05.csv')\n",
    "df6 = pd.read_csv('data_06.csv')"
   ]
  },
  {
   "cell_type": "code",
   "execution_count": 3,
   "metadata": {
    "colab": {
     "base_uri": "https://localhost:8080/"
    },
    "id": "3AOA4wKpugWe",
    "outputId": "64a356ae-888a-4a42-9c12-87e3ac365757"
   },
   "outputs": [
    {
     "name": "stdout",
     "output_type": "stream",
     "text": [
      "<class 'pandas.core.frame.DataFrame'>\n",
      "RangeIndex: 55 entries, 0 to 54\n",
      "Data columns (total 2 columns):\n",
      " #   Column  Non-Null Count  Dtype  \n",
      "---  ------  --------------  -----  \n",
      " 0   x       55 non-null     float64\n",
      " 1   y       55 non-null     float64\n",
      "dtypes: float64(2)\n",
      "memory usage: 1012.0 bytes\n"
     ]
    }
   ],
   "source": [
    "df1.info()"
   ]
  },
  {
   "cell_type": "code",
   "execution_count": 4,
   "metadata": {
    "colab": {
     "base_uri": "https://localhost:8080/",
     "height": 468
    },
    "id": "rLWTERvOvmOR",
    "outputId": "1bdf88c3-8b6d-470e-bc69-6cfd42ef5c98"
   },
   "outputs": [
    {
     "name": "stderr",
     "output_type": "stream",
     "text": [
      "/Users/imachome/anaconda3/lib/python3.11/site-packages/seaborn/_oldcore.py:1498: FutureWarning: is_categorical_dtype is deprecated and will be removed in a future version. Use isinstance(dtype, CategoricalDtype) instead\n",
      "  if pd.api.types.is_categorical_dtype(vector):\n",
      "/Users/imachome/anaconda3/lib/python3.11/site-packages/seaborn/_oldcore.py:1498: FutureWarning: is_categorical_dtype is deprecated and will be removed in a future version. Use isinstance(dtype, CategoricalDtype) instead\n",
      "  if pd.api.types.is_categorical_dtype(vector):\n",
      "/Users/imachome/anaconda3/lib/python3.11/site-packages/seaborn/_oldcore.py:1498: FutureWarning: is_categorical_dtype is deprecated and will be removed in a future version. Use isinstance(dtype, CategoricalDtype) instead\n",
      "  if pd.api.types.is_categorical_dtype(vector):\n",
      "/Users/imachome/anaconda3/lib/python3.11/site-packages/seaborn/_oldcore.py:1498: FutureWarning: is_categorical_dtype is deprecated and will be removed in a future version. Use isinstance(dtype, CategoricalDtype) instead\n",
      "  if pd.api.types.is_categorical_dtype(vector):\n",
      "/Users/imachome/anaconda3/lib/python3.11/site-packages/seaborn/_oldcore.py:1498: FutureWarning: is_categorical_dtype is deprecated and will be removed in a future version. Use isinstance(dtype, CategoricalDtype) instead\n",
      "  if pd.api.types.is_categorical_dtype(vector):\n",
      "/Users/imachome/anaconda3/lib/python3.11/site-packages/seaborn/_oldcore.py:1498: FutureWarning: is_categorical_dtype is deprecated and will be removed in a future version. Use isinstance(dtype, CategoricalDtype) instead\n",
      "  if pd.api.types.is_categorical_dtype(vector):\n",
      "/Users/imachome/anaconda3/lib/python3.11/site-packages/seaborn/_oldcore.py:1498: FutureWarning: is_categorical_dtype is deprecated and will be removed in a future version. Use isinstance(dtype, CategoricalDtype) instead\n",
      "  if pd.api.types.is_categorical_dtype(vector):\n",
      "/Users/imachome/anaconda3/lib/python3.11/site-packages/seaborn/_oldcore.py:1119: FutureWarning: use_inf_as_na option is deprecated and will be removed in a future version. Convert inf values to NaN before operating instead.\n",
      "  with pd.option_context('mode.use_inf_as_na', True):\n",
      "/Users/imachome/anaconda3/lib/python3.11/site-packages/seaborn/_oldcore.py:1119: FutureWarning: use_inf_as_na option is deprecated and will be removed in a future version. Convert inf values to NaN before operating instead.\n",
      "  with pd.option_context('mode.use_inf_as_na', True):\n"
     ]
    },
    {
     "data": {
      "text/plain": [
       "<Axes: xlabel='x', ylabel='y'>"
      ]
     },
     "execution_count": 4,
     "metadata": {},
     "output_type": "execute_result"
    },
    {
     "data": {
      "image/png": "[encoded data removed]",
      "text/plain": [
       "<Figure size 640x480 with 1 Axes>"
      ]
     },
     "metadata": {},
     "output_type": "display_data"
    }
   ],
   "source": [
    "sns.stripplot(x=\"x\", y=\"y\", data=df1, jitter=True)"
   ]
  },
  {
   "cell_type": "code",
   "execution_count": 5,
   "metadata": {
    "colab": {
     "base_uri": "https://localhost:8080/"
    },
    "id": "QITwqt_cz82X",
    "outputId": "a3f92ec6-ea99-4c47-f5b3-c4e967631189"
   },
   "outputs": [
    {
     "name": "stdout",
     "output_type": "stream",
     "text": [
      "55\n",
      "50\n",
      "55\n",
      "53\n",
      "47\n"
     ]
    }
   ],
   "source": [
    "print(len(df1))\n",
    "print(len(df2))\n",
    "print(len(df3))\n",
    "print(len(df4))\n",
    "print(len(df5))"
   ]
  },
  {
   "cell_type": "code",
   "execution_count": 6,
   "metadata": {
    "id": "RmDinMOX7Yj9"
   },
   "outputs": [],
   "source": [
    "df = pd.concat([df1, df2, df3, df4, df5, df6])"
   ]
  },
  {
   "cell_type": "code",
   "execution_count": 7,
   "metadata": {
    "colab": {
     "base_uri": "https://localhost:8080/",
     "height": 507
    },
    "id": "syUVxcPgzhOc",
    "outputId": "14f87946-fa45-4451-a257-1e33f348a5f2"
   },
   "outputs": [
    {
     "ename": "NameError",
     "evalue": "name 'M' is not defined",
     "output_type": "error",
     "traceback": [
      "\u001b[0;31m---------------------------------------------------------------------------\u001b[0m",
      "\u001b[0;31mNameError\u001b[0m                                 Traceback (most recent call last)",
      "Cell \u001b[0;32mIn[7], line 12\u001b[0m\n\u001b[1;32m      8\u001b[0m idx \u001b[38;5;241m=\u001b[39m np\u001b[38;5;241m.\u001b[39mappend(idx, [\u001b[38;5;241m5\u001b[39m, \u001b[38;5;241m5\u001b[39m])\n\u001b[1;32m     10\u001b[0m np\u001b[38;5;241m.\u001b[39mrandom\u001b[38;5;241m.\u001b[39mseed(\u001b[38;5;241m43\u001b[39m)\n\u001b[0;32m---> 12\u001b[0m alpha_real \u001b[38;5;241m=\u001b[39m np\u001b[38;5;241m.\u001b[39mrandom\u001b[38;5;241m.\u001b[39mnormal(\u001b[38;5;241m2.5\u001b[39m, \u001b[38;5;241m0.5\u001b[39m, size\u001b[38;5;241m=\u001b[39mM)\n\u001b[1;32m     13\u001b[0m beta_real \u001b[38;5;241m=\u001b[39m np\u001b[38;5;241m.\u001b[39mrandom\u001b[38;5;241m.\u001b[39mbeta(\u001b[38;5;241m6\u001b[39m, \u001b[38;5;241m1\u001b[39m, size\u001b[38;5;241m=\u001b[39mM)\n\u001b[1;32m     14\u001b[0m eps_real \u001b[38;5;241m=\u001b[39m np\u001b[38;5;241m.\u001b[39mrandom\u001b[38;5;241m.\u001b[39mnormal(\u001b[38;5;241m0\u001b[39m, \u001b[38;5;241m0.5\u001b[39m, size\u001b[38;5;241m=\u001b[39m\u001b[38;5;28mlen\u001b[39m(idx))\n",
      "\u001b[0;31mNameError\u001b[0m: name 'M' is not defined"
     ]
    }
   ],
   "source": [
    "lens = [len(df1), len(df2), len(df3), len(df4), len(df5), len(df6)]\n",
    "N = 47\n",
    "idx = np.repeat(0, len(df1))\n",
    "idx = np.append(idx, np.repeat(1, len(df2)))\n",
    "idx = np.append(idx, np.repeat(2, len(df3)))\n",
    "idx = np.append(idx, np.repeat(3, len(df4)))\n",
    "idx = np.append(idx, np.repeat(4, len(df5)))\n",
    "idx = np.append(idx, [5, 5])\n",
    "\n",
    "np.random.seed(43)\n",
    "\n",
    "alpha_real = np.random.normal(2.5, 0.5, size=M)\n",
    "beta_real = np.random.beta(6, 1, size=M)\n",
    "eps_real = np.random.normal(0, 0.5, size=len(idx))\n",
    "\n",
    "x_m = df['x']\n",
    "y_m = df['y']\n",
    "\n",
    "_, ax = plt.subplots(2, 3, figsize=(10, 5), sharex=True, sharey=True)\n",
    "ax = np.ravel(ax)\n",
    "j, k = 0, N\n",
    "for l in lens:\n",
    "  for i in range(M):\n",
    "    ax[i].scatter(x_m[j:k], y_m[j:k])\n",
    "    ax[i].set_xlabel(f'x_{i}')\n",
    "    ax[i].set_ylabel(f'y_{i}', rotation=0, labelpad=15)\n",
    "    ax[i].set_xlim(6, 15)\n",
    "    ax[i].set_ylim(7, 17)\n",
    "    j += l\n",
    "    k += l\n",
    "plt.tight_layout()"
   ]
  },
  {
   "cell_type": "code",
   "execution_count": null,
   "metadata": {
    "colab": {
     "base_uri": "https://localhost:8080/",
     "height": 607
    },
    "id": "vbsi9wSg7Mm5",
    "outputId": "103ce251-885a-477b-8027-35f5d1729212"
   },
   "outputs": [],
   "source": [
    "M = 6\n",
    "x = df['x']\n",
    "y = df['y']\n",
    "x_centered = x - x.mean()\n",
    "\n",
    "with pm.Model() as model:\n",
    "  α_tmp = pm.Normal('α_tmp', mu=0, sigma=10, shape=M)\n",
    "  β = pm.Normal('β', mu=0, sigma=10, shape=M)\n",
    "  ε = pm.HalfCauchy('ε', 5)\n",
    "  ν = pm.Exponential('ν', 1/30)\n",
    "\n",
    "  y_pred = pm.StudentT('y_pred', mu=α_tmp[idx] + β[idx] * x_centered,\n",
    "  sigma=ε, nu=ν, observed=y)\n",
    "  α = pm.Deterministic('α', α_tmp - β * x.mean())\n",
    "\n",
    "  trace_1 = pm.sample(2000, idata_kwargs={\"log_likelihood\": True})\n",
    "  az.plot_forest(trace_1, var_names=['α', 'β'], combined=True);"
   ]
  },
  {
   "cell_type": "code",
   "execution_count": null,
   "metadata": {
    "colab": {
     "base_uri": "https://localhost:8080/",
     "height": 677
    },
    "id": "huacqS7J9GxA",
    "outputId": "7e62d516-31c0-4a3f-cc9d-293eeb66c6a9"
   },
   "outputs": [],
   "source": [
    "az.summary(trace_1)"
   ]
  },
  {
   "cell_type": "code",
   "execution_count": null,
   "metadata": {
    "colab": {
     "base_uri": "https://localhost:8080/",
     "height": 607
    },
    "id": "jwrIjuL28fh0",
    "outputId": "a68f2115-7c5b-464d-abee-eb90c3ac1b9a"
   },
   "outputs": [],
   "source": [
    "\n",
    "\n",
    "with pm.Model() as hierarchical_model:\n",
    "    # априорные гипер-распределения\n",
    "    α_μ_tmp = pm.Normal('α_μ_tmp', mu=0, sigma=11)\n",
    "    α_σ_tmp = pm.HalfNormal('α_σ_tmp', sigma=11)\n",
    "    β_μ = pm.Normal('β_μ', mu=0, sigma=1)\n",
    "    β_σ = pm.HalfNormal('β_σ', sigma=1)\n",
    "\n",
    "    # априорные распеределения\n",
    "    α_tmp = pm.Normal('α_tmp', mu=α_μ_tmp, sigma=α_σ_tmp, shape=M)\n",
    "    β = pm.Normal('β', mu=β_μ, sigma=β_σ, shape=M)\n",
    "    ε = pm.HalfCauchy('ε', 5)\n",
    "    ν = pm.Exponential('ν', 1/30)\n",
    "\n",
    "    # апосториорное распределение\n",
    "    y_pred = pm.StudentT('y_pred', mu=α_tmp[idx] + β[idx] * x_centered,\n",
    "                         sigma=ε, nu=ν, observed=y)\n",
    "\n",
    "    # обратное перемасштабирование\n",
    "    α = pm.Deterministic('α', α_tmp - β * x.mean())\n",
    "    α_μ = pm.Deterministic('α_μ', α_μ_tmp - β_μ * x.mean())\n",
    "    α_σ = pm.Deterministic('α_sd', α_σ_tmp - β_μ * x.mean())\n",
    "\n",
    "    # трассировка\n",
    "    trace_hm = pm.sample(3000,tune = 1000) #target_accept=.8\n",
    "\n",
    "az.plot_forest(trace_hm, var_names=['α', 'β'], combined=True);"
   ]
  },
  {
   "cell_type": "code",
   "execution_count": null,
   "metadata": {
    "colab": {
     "base_uri": "https://localhost:8080/",
     "height": 865
    },
    "id": "ifGkcOxb9MET",
    "outputId": "1958ee8d-539d-44da-e74e-1e937bf434e6"
   },
   "outputs": [],
   "source": [
    "az.summary(trace_hm)\n"
   ]
  },
  {
   "cell_type": "code",
   "execution_count": null,
   "metadata": {
    "colab": {
     "base_uri": "https://localhost:8080/"
    },
    "id": "SV05Aub7BAMU",
    "outputId": "249eb7bd-bc74-45da-ee1c-e1e491e6a363"
   },
   "outputs": [],
   "source": [
    "len(df1)"
   ]
  },
  {
   "cell_type": "code",
   "execution_count": null,
   "metadata": {
    "colab": {
     "base_uri": "https://localhost:8080/",
     "height": 1000
    },
    "id": "Kxq9Quax9B1p",
    "outputId": "b3f05b06-6aed-4066-867f-093e1ce4a840"
   },
   "outputs": [],
   "source": [
    "\n",
    "_, ax = plt.subplots(2, 3, figsize=(15, 10), sharex=True, sharey=True, constrained_layout=True)\n",
    "trace_11 = trace_1.posterior.stack(samples={\"chain\", \"draw\"})\n",
    "trace_hmm = trace_hm.posterior.stack(samples={\"chain\", \"draw\"})\n",
    "\n",
    "\n",
    "ax = np.ravel(ax)\n",
    "j, k = 0, lens[0]\n",
    "x_range = np.linspace(x_m.min(), x_m.max(), 10)\n",
    "\n",
    "for i in range(M):\n",
    "  try:\n",
    "    ax[i].scatter(x_m[j:k], y_m[j:k])\n",
    "    ax[i].set_xlabel(f'x_{i}')\n",
    "    ax[i].set_ylabel(f'y_{i}', labelpad=17, rotation=0)\n",
    "    alpha_m = trace_hmm['α'].sel({'α_dim_0':i}).mean().item()\n",
    "    beta_m  = trace_hmm['β'].sel({'β_dim_0':i}).mean().item()\n",
    "    ax[i].plot(x_range, alpha_m + beta_m * x_range, c='r',\n",
    "               label=f'y = {alpha_m:.2f} + {beta_m:.2f} * x'+' - иерахич. модель')\n",
    "\n",
    "    alpha_o = trace_11['α'].sel({'α_dim_0':i}).mean().item()\n",
    "    beta_o = trace_11['β'].sel({'β_dim_0':i}).mean().item()\n",
    "    ax[i].plot(x_range, alpha_o + beta_o * x_range, 'g--',\n",
    "               label=f'y = {alpha_o:.2f} + {beta_o:.2f} * x'+' - неиерахич. модель')\n",
    "\n",
    "    ax[i].legend()\n",
    "    plt.xlim(x_m.min()-1, x_m.max()+1)\n",
    "    plt.ylim(y_m.min()-1, y_m.max()+1)\n",
    "    j += lens[i]\n",
    "    k += lens[i+1]\n",
    "  except Exception as e:\n",
    "    pass"
   ]
  },
  {
   "cell_type": "code",
   "execution_count": null,
   "metadata": {
    "colab": {
     "base_uri": "https://localhost:8080/"
    },
    "id": "1tuK3GqTw4se",
    "outputId": "cf6aaf4a-ae48-4365-dbbd-1e6c99063660"
   },
   "outputs": [],
   "source": [
    "loo = az.loo(trace_1)\n",
    "waic = az.waic(trace_1)"
   ]
  },
  {
   "cell_type": "code",
   "execution_count": null,
   "metadata": {
    "colab": {
     "base_uri": "https://localhost:8080/"
    },
    "id": "WOcOJ8WnEtzT",
    "outputId": "98733331-ce2a-4ea8-dbd2-b7d2f15183a2"
   },
   "outputs": [],
   "source": [
    "loo"
   ]
  },
  {
   "cell_type": "code",
   "execution_count": null,
   "metadata": {
    "colab": {
     "base_uri": "https://localhost:8080/"
    },
    "id": "3yZTLKxzEwFM",
    "outputId": "c3df3193-2bb4-4e5a-b4db-5e4c74fba987"
   },
   "outputs": [],
   "source": [
    "waic"
   ]
  },
  {
   "cell_type": "code",
   "execution_count": null,
   "metadata": {
    "id": "dmBZ1qciFwq2"
   },
   "outputs": [],
   "source": []
  }
 ],
 "metadata": {
  "colab": {
   "provenance": []
  },
  "kernelspec": {
   "display_name": "Python 3 (ipykernel)",
   "language": "python",
   "name": "python3"
  },
  "language_info": {
   "codemirror_mode": {
    "name": "ipython",
    "version": 3
   },
   "file_extension": ".py",
   "mimetype": "text/x-python",
   "name": "python",
   "nbconvert_exporter": "python",
   "pygments_lexer": "ipython3",
   "version": "3.11.5"
  }
 },
 "nbformat": 4,
 "nbformat_minor": 1
}
